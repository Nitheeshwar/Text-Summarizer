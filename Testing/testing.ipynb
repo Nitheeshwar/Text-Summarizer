{
 "cells": [
  {
   "cell_type": "code",
   "execution_count": 6,
   "metadata": {},
   "outputs": [],
   "source": [
    "from transformers import pipeline\n",
    "from authtoken import auth_token\n",
    "summarizer = pipeline(\"summarization\", model=\"facebook/bart-large-cnn\")"
   ]
  },
  {
   "cell_type": "code",
   "execution_count": 8,
   "metadata": {},
   "outputs": [],
   "source": [
    "text = \"\"\"The case challenged the US government’s ability to shape public debates about major issues that once played out in newspaper op-ed pages but that now largely unfold online. And it questioned the government’s power to partner with private-sector organizations to combat large-scale societal threats.\n",
    "\n",
    "The government argued that the social media plaintiffs didn’t have standing to sue, in part because their content was “moderated” before the administration started flagging suspect posts to the platforms. The Biden administration argued that the states also lacked standing, in part because they relied on a “a handful of past incidents of content moderation, unconnected to any specific governmental actions.”\n",
    "\n",
    "A federal judge in Louisiana who initially reviewed the case blocked the White House and a slew of federal agencies from communicating with social media companies about removing content in a sweeping preliminary injunction last year.\n",
    "\n",
    "A three-judge panel of the conservative 5th US Circuit Court of Appeals scaled back the injunction last fall, narrowing its scope to a few agencies it said likely violated the First Amendment: The White House, US Surgeon General Vivek Murthy, the Centers for Disease Control and Prevention, the Cybersecurity and Infrastructure Security Agency and the FBI.\n",
    "\n",
    "The New Civil Liberties Alliance, which represented the private plaintiffs in the case, framed the decision as declaring “open season on Americans’ free speech rights.”\n",
    "\n",
    "“The government can press third parties to silence you, but the Supreme Court will not find you have standing to complain about it absent them referring to you by name apparently,” said the group’s senior litigation counsel, John Vecchione. “This is a bad day for the First Amendment.”\n",
    "\n",
    "But other groups said the decision struck a balance between free speech and public safety online.\n",
    "\n",
    "Wednesday’s decision highlights online platforms’ responsibility to the public, said Sacha Haworth, executive director of the Tech Oversight Project, a group that has been critical of the tech industry.\n",
    "\n",
    "“This ruling correctly affirms the federal government’s right to notify the platforms about credible digital threats from foreign and domestic actors and puts the onus on tech companies to take those threats seriously,” Haworth said.\n",
    "\n",
    "Google and Meta declined to comment.\n",
    "\n",
    "White House press secretary Karine Jean-Pierre praised the ruling.\n",
    "\n",
    "“The Supreme Court’s decision is the right one, and it helps ensure the Biden Administration can continue our important work with technology companies to protect the safety and security of the American people, after years of extreme and unfounded Republican attacks on public officials who engaged in critical work to keep Americans safe,” Jean-Pierre said in a statement.\"\"\""
   ]
  },
  {
   "cell_type": "code",
   "execution_count": 9,
   "metadata": {},
   "outputs": [],
   "source": [
    "Summary = summarizer(text, max_length=150, min_length=40, do_sample=False )"
   ]
  },
  {
   "cell_type": "code",
   "execution_count": 11,
   "metadata": {},
   "outputs": [
    {
     "name": "stdout",
     "output_type": "stream",
     "text": [
      "The case challenged the US government’s ability to shape public debates about major issues. The government argued that the social media plaintiffs didn’t have standing to sue. A federal judge in Louisiana had blocked the White House and other agencies from communicating with social media companies.\n"
     ]
    }
   ],
   "source": [
    "print(Summary[0]['summary_text'])"
   ]
  }
 ],
 "metadata": {
  "kernelspec": {
   "display_name": ".genai",
   "language": "python",
   "name": "python3"
  },
  "language_info": {
   "codemirror_mode": {
    "name": "ipython",
    "version": 3
   },
   "file_extension": ".py",
   "mimetype": "text/x-python",
   "name": "python",
   "nbconvert_exporter": "python",
   "pygments_lexer": "ipython3",
   "version": "3.12.1"
  }
 },
 "nbformat": 4,
 "nbformat_minor": 2
}
